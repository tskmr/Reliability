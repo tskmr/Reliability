{
  "nbformat": 4,
  "nbformat_minor": 0,
  "metadata": {
    "colab": {
      "provenance": [],
      "collapsed_sections": [
        "HjrTZEIAdwhy",
        "jqgxfMBr6uPn"
      ],
      "authorship_tag": "ABX9TyNwn2dPHnrycbO/p0wsl2O3",
      "include_colab_link": true
    },
    "kernelspec": {
      "name": "ir",
      "display_name": "R"
    },
    "language_info": {
      "name": "R"
    }
  },
  "cells": [
    {
      "cell_type": "markdown",
      "metadata": {
        "id": "view-in-github",
        "colab_type": "text"
      },
      "source": [
        "<a href=\"https://colab.research.google.com/github/tskmr/Reliability/blob/main/lecture10_(0621).ipynb\" target=\"_parent\"><img src=\"https://colab.research.google.com/assets/colab-badge.svg\" alt=\"Open In Colab\"/></a>"
      ]
    },
    {
      "cell_type": "markdown",
      "source": [
        "# 第10回 一定ストレスモデルの点推定（打切りあり）の演習"
      ],
      "metadata": {
        "id": "M-goszx3dnyP"
      }
    },
    {
      "cell_type": "markdown",
      "source": [
        "## 例: ショックアブソーバの故障時間"
      ],
      "metadata": {
        "id": "HjrTZEIAdwhy"
      }
    },
    {
      "cell_type": "markdown",
      "source": [
        "### データの読み込み"
      ],
      "metadata": {
        "id": "D4LrgljyeC0u"
      }
    },
    {
      "cell_type": "code",
      "execution_count": 78,
      "metadata": {
        "id": "xdr0KdDY5RK-",
        "colab": {
          "base_uri": "https://localhost:8080/",
          "height": 407
        },
        "outputId": "fb429ff2-5eec-4c26-d5cf-6273a00fdf87"
      },
      "outputs": [
        {
          "output_type": "display_data",
          "data": {
            "text/html": [
              "<table class=\"dataframe\">\n",
              "<caption>A data.frame: 10 × 3</caption>\n",
              "<thead>\n",
              "\t<tr><th></th><th scope=col>Kilometers</th><th scope=col>Failure.Mode</th><th scope=col>Censoring.Indicator</th></tr>\n",
              "\t<tr><th></th><th scope=col>&lt;int&gt;</th><th scope=col>&lt;chr&gt;</th><th scope=col>&lt;chr&gt;</th></tr>\n",
              "</thead>\n",
              "<tbody>\n",
              "\t<tr><th scope=row>1</th><td> 6700</td><td>Mode1   </td><td>Failed  </td></tr>\n",
              "\t<tr><th scope=row>2</th><td> 6950</td><td>Censored</td><td>Censored</td></tr>\n",
              "\t<tr><th scope=row>3</th><td> 7820</td><td>Censored</td><td>Censored</td></tr>\n",
              "\t<tr><th scope=row>4</th><td> 8790</td><td>Censored</td><td>Censored</td></tr>\n",
              "\t<tr><th scope=row>5</th><td> 9120</td><td>Mode2   </td><td>Failed  </td></tr>\n",
              "\t<tr><th scope=row>6</th><td> 9660</td><td>Censored</td><td>Censored</td></tr>\n",
              "\t<tr><th scope=row>7</th><td> 9820</td><td>Censored</td><td>Censored</td></tr>\n",
              "\t<tr><th scope=row>8</th><td>11310</td><td>Censored</td><td>Censored</td></tr>\n",
              "\t<tr><th scope=row>9</th><td>11690</td><td>Censored</td><td>Censored</td></tr>\n",
              "\t<tr><th scope=row>10</th><td>11850</td><td>Censored</td><td>Censored</td></tr>\n",
              "</tbody>\n",
              "</table>\n"
            ],
            "text/markdown": "\nA data.frame: 10 × 3\n\n| <!--/--> | Kilometers &lt;int&gt; | Failure.Mode &lt;chr&gt; | Censoring.Indicator &lt;chr&gt; |\n|---|---|---|---|\n| 1 |  6700 | Mode1    | Failed   |\n| 2 |  6950 | Censored | Censored |\n| 3 |  7820 | Censored | Censored |\n| 4 |  8790 | Censored | Censored |\n| 5 |  9120 | Mode2    | Failed   |\n| 6 |  9660 | Censored | Censored |\n| 7 |  9820 | Censored | Censored |\n| 8 | 11310 | Censored | Censored |\n| 9 | 11690 | Censored | Censored |\n| 10 | 11850 | Censored | Censored |\n\n",
            "text/latex": "A data.frame: 10 × 3\n\\begin{tabular}{r|lll}\n  & Kilometers & Failure.Mode & Censoring.Indicator\\\\\n  & <int> & <chr> & <chr>\\\\\n\\hline\n\t1 &  6700 & Mode1    & Failed  \\\\\n\t2 &  6950 & Censored & Censored\\\\\n\t3 &  7820 & Censored & Censored\\\\\n\t4 &  8790 & Censored & Censored\\\\\n\t5 &  9120 & Mode2    & Failed  \\\\\n\t6 &  9660 & Censored & Censored\\\\\n\t7 &  9820 & Censored & Censored\\\\\n\t8 & 11310 & Censored & Censored\\\\\n\t9 & 11690 & Censored & Censored\\\\\n\t10 & 11850 & Censored & Censored\\\\\n\\end{tabular}\n",
            "text/plain": [
              "   Kilometers Failure.Mode Censoring.Indicator\n",
              "1   6700      Mode1        Failed             \n",
              "2   6950      Censored     Censored           \n",
              "3   7820      Censored     Censored           \n",
              "4   8790      Censored     Censored           \n",
              "5   9120      Mode2        Failed             \n",
              "6   9660      Censored     Censored           \n",
              "7   9820      Censored     Censored           \n",
              "8  11310      Censored     Censored           \n",
              "9  11690      Censored     Censored           \n",
              "10 11850      Censored     Censored           "
            ]
          },
          "metadata": {}
        }
      ],
      "source": [
        "library(tidyverse)\n",
        "d = read.csv(\"ShockAbsorber.csv\") # ショックアブソーバの故障時間データ\n",
        "d %>% head(10)"
      ]
    },
    {
      "cell_type": "code",
      "source": [
        "d$Censoring.Indicator==\"Failed\"\n",
        "as.numeric(d$Censoring.Indicator==\"Failed\")"
      ],
      "metadata": {
        "colab": {
          "base_uri": "https://localhost:8080/",
          "height": 68
        },
        "id": "btzNavVLs99z",
        "outputId": "611d3925-552f-4d93-9c98-133613bceb16"
      },
      "execution_count": 79,
      "outputs": [
        {
          "output_type": "display_data",
          "data": {
            "text/html": [
              "<style>\n",
              ".list-inline {list-style: none; margin:0; padding: 0}\n",
              ".list-inline>li {display: inline-block}\n",
              ".list-inline>li:not(:last-child)::after {content: \"\\00b7\"; padding: 0 .5ex}\n",
              "</style>\n",
              "<ol class=list-inline><li>TRUE</li><li>FALSE</li><li>FALSE</li><li>FALSE</li><li>TRUE</li><li>FALSE</li><li>FALSE</li><li>FALSE</li><li>FALSE</li><li>FALSE</li><li>FALSE</li><li>FALSE</li><li>TRUE</li><li>FALSE</li><li>TRUE</li><li>FALSE</li><li>FALSE</li><li>FALSE</li><li>TRUE</li><li>TRUE</li><li>FALSE</li><li>FALSE</li><li>FALSE</li><li>FALSE</li><li>FALSE</li><li>FALSE</li><li>TRUE</li><li>FALSE</li><li>FALSE</li><li>FALSE</li><li>TRUE</li><li>TRUE</li><li>FALSE</li><li>TRUE</li><li>FALSE</li><li>TRUE</li><li>FALSE</li><li>FALSE</li></ol>\n"
            ],
            "text/markdown": "1. TRUE\n2. FALSE\n3. FALSE\n4. FALSE\n5. TRUE\n6. FALSE\n7. FALSE\n8. FALSE\n9. FALSE\n10. FALSE\n11. FALSE\n12. FALSE\n13. TRUE\n14. FALSE\n15. TRUE\n16. FALSE\n17. FALSE\n18. FALSE\n19. TRUE\n20. TRUE\n21. FALSE\n22. FALSE\n23. FALSE\n24. FALSE\n25. FALSE\n26. FALSE\n27. TRUE\n28. FALSE\n29. FALSE\n30. FALSE\n31. TRUE\n32. TRUE\n33. FALSE\n34. TRUE\n35. FALSE\n36. TRUE\n37. FALSE\n38. FALSE\n\n\n",
            "text/latex": "\\begin{enumerate*}\n\\item TRUE\n\\item FALSE\n\\item FALSE\n\\item FALSE\n\\item TRUE\n\\item FALSE\n\\item FALSE\n\\item FALSE\n\\item FALSE\n\\item FALSE\n\\item FALSE\n\\item FALSE\n\\item TRUE\n\\item FALSE\n\\item TRUE\n\\item FALSE\n\\item FALSE\n\\item FALSE\n\\item TRUE\n\\item TRUE\n\\item FALSE\n\\item FALSE\n\\item FALSE\n\\item FALSE\n\\item FALSE\n\\item FALSE\n\\item TRUE\n\\item FALSE\n\\item FALSE\n\\item FALSE\n\\item TRUE\n\\item TRUE\n\\item FALSE\n\\item TRUE\n\\item FALSE\n\\item TRUE\n\\item FALSE\n\\item FALSE\n\\end{enumerate*}\n",
            "text/plain": [
              " [1]  TRUE FALSE FALSE FALSE  TRUE FALSE FALSE FALSE FALSE FALSE FALSE FALSE\n",
              "[13]  TRUE FALSE  TRUE FALSE FALSE FALSE  TRUE  TRUE FALSE FALSE FALSE FALSE\n",
              "[25] FALSE FALSE  TRUE FALSE FALSE FALSE  TRUE  TRUE FALSE  TRUE FALSE  TRUE\n",
              "[37] FALSE FALSE"
            ]
          },
          "metadata": {}
        },
        {
          "output_type": "display_data",
          "data": {
            "text/html": [
              "<style>\n",
              ".list-inline {list-style: none; margin:0; padding: 0}\n",
              ".list-inline>li {display: inline-block}\n",
              ".list-inline>li:not(:last-child)::after {content: \"\\00b7\"; padding: 0 .5ex}\n",
              "</style>\n",
              "<ol class=list-inline><li>1</li><li>0</li><li>0</li><li>0</li><li>1</li><li>0</li><li>0</li><li>0</li><li>0</li><li>0</li><li>0</li><li>0</li><li>1</li><li>0</li><li>1</li><li>0</li><li>0</li><li>0</li><li>1</li><li>1</li><li>0</li><li>0</li><li>0</li><li>0</li><li>0</li><li>0</li><li>1</li><li>0</li><li>0</li><li>0</li><li>1</li><li>1</li><li>0</li><li>1</li><li>0</li><li>1</li><li>0</li><li>0</li></ol>\n"
            ],
            "text/markdown": "1. 1\n2. 0\n3. 0\n4. 0\n5. 1\n6. 0\n7. 0\n8. 0\n9. 0\n10. 0\n11. 0\n12. 0\n13. 1\n14. 0\n15. 1\n16. 0\n17. 0\n18. 0\n19. 1\n20. 1\n21. 0\n22. 0\n23. 0\n24. 0\n25. 0\n26. 0\n27. 1\n28. 0\n29. 0\n30. 0\n31. 1\n32. 1\n33. 0\n34. 1\n35. 0\n36. 1\n37. 0\n38. 0\n\n\n",
            "text/latex": "\\begin{enumerate*}\n\\item 1\n\\item 0\n\\item 0\n\\item 0\n\\item 1\n\\item 0\n\\item 0\n\\item 0\n\\item 0\n\\item 0\n\\item 0\n\\item 0\n\\item 1\n\\item 0\n\\item 1\n\\item 0\n\\item 0\n\\item 0\n\\item 1\n\\item 1\n\\item 0\n\\item 0\n\\item 0\n\\item 0\n\\item 0\n\\item 0\n\\item 1\n\\item 0\n\\item 0\n\\item 0\n\\item 1\n\\item 1\n\\item 0\n\\item 1\n\\item 0\n\\item 1\n\\item 0\n\\item 0\n\\end{enumerate*}\n",
            "text/plain": [
              " [1] 1 0 0 0 1 0 0 0 0 0 0 0 1 0 1 0 0 0 1 1 0 0 0 0 0 0 1 0 0 0 1 1 0 1 0 1 0 0"
            ]
          },
          "metadata": {}
        }
      ]
    },
    {
      "cell_type": "code",
      "source": [
        "d$dj = as.numeric(d$Censoring.Indicator==\"Failed\")\n",
        "d$nj = rev(seq(nrow(d)))\n",
        "d %>%\n",
        "  ggplot(aes(0, nj)) + geom_segment(aes(xend = Kilometers, yend = nj)) +\n",
        "geom_text(aes(x = Kilometers, label = ifelse(dj == 1, \"X\", \"\"))) +\n",
        "ylab(\"Specimens\")"
      ],
      "metadata": {
        "colab": {
          "base_uri": "https://localhost:8080/",
          "height": 437
        },
        "id": "dxbOqfkp5stB",
        "outputId": "fd4d9f35-0d3a-44a8-a547-ef9486ff973e"
      },
      "execution_count": 80,
      "outputs": [
        {
          "output_type": "display_data",
          "data": {
            "text/plain": [
              "plot without title"
            ],
            "image/png": "[encoded data removed]"
          },
          "metadata": {
            "image/png": {
              "width": 420,
              "height": 420
            }
          }
        }
      ]
    },
    {
      "cell_type": "markdown",
      "source": [
        "### 最尤推定値の算出"
      ],
      "metadata": {
        "id": "2H83yq8yd9lu"
      }
    },
    {
      "cell_type": "code",
      "source": [
        "sum(d$dj)"
      ],
      "metadata": {
        "colab": {
          "base_uri": "https://localhost:8080/",
          "height": 34
        },
        "id": "rm4SRP66wY7z",
        "outputId": "fe09b18f-7395-49b8-8ad0-e2d2fbd1b161"
      },
      "execution_count": 81,
      "outputs": [
        {
          "output_type": "display_data",
          "data": {
            "text/html": [
              "11"
            ],
            "text/markdown": "11",
            "text/latex": "11",
            "text/plain": [
              "[1] 11"
            ]
          },
          "metadata": {}
        }
      ]
    },
    {
      "cell_type": "code",
      "source": [
        "nrow(d)-sum(d$dj)"
      ],
      "metadata": {
        "colab": {
          "base_uri": "https://localhost:8080/",
          "height": 34
        },
        "id": "Hi_6w_lywgDu",
        "outputId": "733661ce-cc47-4be7-dbdb-7edf06fc7e40"
      },
      "execution_count": 82,
      "outputs": [
        {
          "output_type": "display_data",
          "data": {
            "text/html": [
              "27"
            ],
            "text/markdown": "27",
            "text/latex": "27",
            "text/plain": [
              "[1] 27"
            ]
          },
          "metadata": {}
        }
      ]
    },
    {
      "cell_type": "code",
      "source": [
        "sum(d$Kilometers)"
      ],
      "metadata": {
        "colab": {
          "base_uri": "https://localhost:8080/",
          "height": 34
        },
        "id": "ijA2Hc7ywsaR",
        "outputId": "321403e1-dfee-465a-f480-1a41bf314cc7"
      },
      "execution_count": 83,
      "outputs": [
        {
          "output_type": "display_data",
          "data": {
            "text/html": [
              "625000"
            ],
            "text/markdown": "625000",
            "text/latex": "625000",
            "text/plain": [
              "[1] 625000"
            ]
          },
          "metadata": {}
        }
      ]
    },
    {
      "cell_type": "code",
      "source": [
        "hat.mu = log(sum(d$Kilometers)/sum(d$dj))\n",
        "hat.mu"
      ],
      "metadata": {
        "colab": {
          "base_uri": "https://localhost:8080/",
          "height": 34
        },
        "id": "iXiPnGRMwx3p",
        "outputId": "232fe181-4bae-477a-e598-d234caa707c4"
      },
      "execution_count": 84,
      "outputs": [
        {
          "output_type": "display_data",
          "data": {
            "text/html": [
              "10.9476116559202"
            ],
            "text/markdown": "10.9476116559202",
            "text/latex": "10.9476116559202",
            "text/plain": [
              "[1] 10.94761"
            ]
          },
          "metadata": {}
        }
      ]
    },
    {
      "cell_type": "markdown",
      "source": [
        "漸近分散の算出"
      ],
      "metadata": {
        "id": "87XI07eQe2Gu"
      }
    },
    {
      "cell_type": "code",
      "source": [
        "aVar = 1/sum(d$dj)\n",
        "aVar"
      ],
      "metadata": {
        "colab": {
          "base_uri": "https://localhost:8080/",
          "height": 34
        },
        "id": "vXNMyLb8w9FE",
        "outputId": "aecddc95-c7f9-4d38-bb98-c8450e28bf59"
      },
      "execution_count": 85,
      "outputs": [
        {
          "output_type": "display_data",
          "data": {
            "text/html": [
              "0.0909090909090909"
            ],
            "text/markdown": "0.0909090909090909",
            "text/latex": "0.0909090909090909",
            "text/plain": [
              "[1] 0.09090909"
            ]
          },
          "metadata": {}
        }
      ]
    },
    {
      "cell_type": "markdown",
      "source": [
        "近似信頼区間"
      ],
      "metadata": {
        "id": "HHMZs2CRfpnj"
      }
    },
    {
      "cell_type": "code",
      "source": [
        "alpha = 0.05\n",
        "c(hat.mu - qnorm(1-alpha/2) * sqrt(aVar), hat.mu + qnorm(1-alpha/2) * sqrt(aVar) )"
      ],
      "metadata": {
        "colab": {
          "base_uri": "https://localhost:8080/",
          "height": 34
        },
        "id": "96rYZOZBfpS_",
        "outputId": "a35abe34-bb06-4c81-cdf5-483f05d07827"
      },
      "execution_count": 86,
      "outputs": [
        {
          "output_type": "display_data",
          "data": {
            "text/html": [
              "<style>\n",
              ".list-inline {list-style: none; margin:0; padding: 0}\n",
              ".list-inline>li {display: inline-block}\n",
              ".list-inline>li:not(:last-child)::after {content: \"\\00b7\"; padding: 0 .5ex}\n",
              "</style>\n",
              "<ol class=list-inline><li>10.3566602796175</li><li>11.5385630322228</li></ol>\n"
            ],
            "text/markdown": "1. 10.3566602796175\n2. 11.5385630322228\n\n\n",
            "text/latex": "\\begin{enumerate*}\n\\item 10.3566602796175\n\\item 11.5385630322228\n\\end{enumerate*}\n",
            "text/plain": [
              "[1] 10.35666 11.53856"
            ]
          },
          "metadata": {}
        }
      ]
    },
    {
      "cell_type": "markdown",
      "source": [
        "### 最尤推定値の算出（数値計算による方法）"
      ],
      "metadata": {
        "id": "2T3wMGeueKgg"
      }
    },
    {
      "cell_type": "code",
      "source": [
        "dsev <- function(z){\n",
        "  exp(z-exp(z))\n",
        "}\n",
        "psev <- function(z){\n",
        "  1-exp(-exp(z))\n",
        "}\n",
        "Ft <- function(t, mu){ # 指数分布の累積分布関数\n",
        "  psev(log(t)-mu)\n",
        "}\n",
        "ft <- function(t, mu){ # 指数分布の確率密度関数\n",
        "  1/t * dsev(log(t)-mu)\n",
        "}\n",
        "l_i = function(x, par, n_d, n_r){ # 1サンプルの対数尤度\n",
        "  n_d * log(ft(x, par)) + n_r * log(1-Ft(x, par))\n",
        "}\n",
        "loglikelihood = function(x, n_d, n_r){\n",
        "  function(par){\n",
        "    sum(l_i(x, par, n_d, n_r))\n",
        "  }\n",
        "}\n",
        "l = loglikelihood(d$Kilometers, d$dj, 1-d$dj) # 対数尤度関数"
      ],
      "metadata": {
        "id": "evIQXkt0xHV2"
      },
      "execution_count": 67,
      "outputs": []
    },
    {
      "cell_type": "code",
      "source": [
        "l"
      ],
      "metadata": {
        "colab": {
          "base_uri": "https://localhost:8080/",
          "height": 85
        },
        "id": "HshCdhjXzWgp",
        "outputId": "8e5109e5-4fef-4927-e324-15d7dbde9cce"
      },
      "execution_count": 68,
      "outputs": [
        {
          "output_type": "display_data",
          "data": {
            "text/html": [
              "<pre class=language-r><code>function (par) \n",
              "{\n",
              "<span style=white-space:pre-wrap>    sum(l_i(x, par, n_d, n_r))</span>\n",
              "}</code></pre>"
            ],
            "text/markdown": "```r\nfunction (par) \n{\n    sum(l_i(x, par, n_d, n_r))\n}\n```",
            "text/latex": "\\begin{minted}{r}\nfunction (par) \n\\{\n    sum(l\\_i(x, par, n\\_d, n\\_r))\n\\}\n\\end{minted}",
            "text/plain": [
              "function(par){\n",
              "    sum(l_i(x, par, n_d, n_r))\n",
              "  }\n",
              "<environment: 0x5571c0c31158>"
            ]
          },
          "metadata": {}
        }
      ]
    },
    {
      "cell_type": "code",
      "source": [
        "l(12)\n",
        "l(21)"
      ],
      "metadata": {
        "colab": {
          "base_uri": "https://localhost:8080/",
          "height": 51
        },
        "id": "_eLcx0R-zXJp",
        "outputId": "d15049bd-fa1c-4016-9f4f-a67bc201fafd"
      },
      "execution_count": 69,
      "outputs": [
        {
          "output_type": "display_data",
          "data": {
            "text/html": [
              "-135.84013272083"
            ],
            "text/markdown": "-135.84013272083",
            "text/latex": "-135.84013272083",
            "text/plain": [
              "[1] -135.8401"
            ]
          },
          "metadata": {}
        },
        {
          "output_type": "display_data",
          "data": {
            "text/html": [
              "-231.000473910027"
            ],
            "text/markdown": "-231.000473910027",
            "text/latex": "-231.000473910027",
            "text/plain": [
              "[1] -231.0005"
            ]
          },
          "metadata": {}
        }
      ]
    },
    {
      "cell_type": "code",
      "source": [
        "optim(20, l, control = list(fnscale=-1), hessian = TRUE)"
      ],
      "metadata": {
        "colab": {
          "base_uri": "https://localhost:8080/",
          "height": 365
        },
        "id": "bVjyB7d7zZrz",
        "outputId": "f1def38a-0461-40dd-b43a-f081610810aa"
      },
      "execution_count": 70,
      "outputs": [
        {
          "output_type": "stream",
          "name": "stderr",
          "text": [
            "Warning message in optim(20, l, control = list(fnscale = -1), hessian = TRUE):\n",
            "“one-dimensional optimization by Nelder-Mead is unreliable:\n",
            "use \"Brent\" or optimize() directly”\n"
          ]
        },
        {
          "output_type": "display_data",
          "data": {
            "text/html": [
              "<dl>\n",
              "\t<dt>$par</dt>\n",
              "\t\t<dd>10.947265625</dd>\n",
              "\t<dt>$value</dt>\n",
              "\t\t<dd>-131.423728873754</dd>\n",
              "\t<dt>$counts</dt>\n",
              "\t\t<dd><style>\n",
              ".dl-inline {width: auto; margin:0; padding: 0}\n",
              ".dl-inline>dt, .dl-inline>dd {float: none; width: auto; display: inline-block}\n",
              ".dl-inline>dt::after {content: \":\\0020\"; padding-right: .5ex}\n",
              ".dl-inline>dt:not(:first-of-type) {padding-left: .5ex}\n",
              "</style><dl class=dl-inline><dt>function</dt><dd>30</dd><dt>gradient</dt><dd>&lt;NA&gt;</dd></dl>\n",
              "</dd>\n",
              "\t<dt>$convergence</dt>\n",
              "\t\t<dd>0</dd>\n",
              "\t<dt>$message</dt>\n",
              "\t\t<dd>NULL</dd>\n",
              "\t<dt>$hessian</dt>\n",
              "\t\t<dd><table class=\"dataframe\">\n",
              "<caption>A matrix: 1 × 1 of type dbl</caption>\n",
              "<tbody>\n",
              "\t<tr><td>-11.00381</td></tr>\n",
              "</tbody>\n",
              "</table>\n",
              "</dd>\n",
              "</dl>\n"
            ],
            "text/markdown": "$par\n:   10.947265625\n$value\n:   -131.423728873754\n$counts\n:   function\n:   30gradient\n:   &lt;NA&gt;\n\n\n$convergence\n:   0\n$message\n:   NULL\n$hessian\n:   \nA matrix: 1 × 1 of type dbl\n\n| -11.00381 |\n\n\n\n\n",
            "text/latex": "\\begin{description}\n\\item[\\$par] 10.947265625\n\\item[\\$value] -131.423728873754\n\\item[\\$counts] \\begin{description*}\n\\item[function] 30\n\\item[gradient] <NA>\n\\end{description*}\n\n\\item[\\$convergence] 0\n\\item[\\$message] NULL\n\\item[\\$hessian] A matrix: 1 × 1 of type dbl\n\\begin{tabular}{l}\n\t -11.00381\\\\\n\\end{tabular}\n\n\\end{description}\n",
            "text/plain": [
              "$par\n",
              "[1] 10.94727\n",
              "\n",
              "$value\n",
              "[1] -131.4237\n",
              "\n",
              "$counts\n",
              "function gradient \n",
              "      30       NA \n",
              "\n",
              "$convergence\n",
              "[1] 0\n",
              "\n",
              "$message\n",
              "NULL\n",
              "\n",
              "$hessian\n",
              "          [,1]\n",
              "[1,] -11.00381\n"
            ]
          },
          "metadata": {}
        }
      ]
    },
    {
      "cell_type": "code",
      "source": [
        "optim(30, l, control = list(fnscale=-1), hessian = TRUE)"
      ],
      "metadata": {
        "colab": {
          "base_uri": "https://localhost:8080/",
          "height": 365
        },
        "id": "xQl3sAZu0Bk9",
        "outputId": "e4b2fd2b-f64b-426b-d5ee-b33b946bcedd"
      },
      "execution_count": 71,
      "outputs": [
        {
          "output_type": "stream",
          "name": "stderr",
          "text": [
            "Warning message in optim(30, l, control = list(fnscale = -1), hessian = TRUE):\n",
            "“one-dimensional optimization by Nelder-Mead is unreliable:\n",
            "use \"Brent\" or optimize() directly”\n"
          ]
        },
        {
          "output_type": "display_data",
          "data": {
            "text/html": [
              "<dl>\n",
              "\t<dt>$par</dt>\n",
              "\t\t<dd>10.9482421875</dd>\n",
              "\t<dt>$value</dt>\n",
              "\t\t<dd>-131.423730401298</dd>\n",
              "\t<dt>$counts</dt>\n",
              "\t\t<dd><style>\n",
              ".dl-inline {width: auto; margin:0; padding: 0}\n",
              ".dl-inline>dt, .dl-inline>dd {float: none; width: auto; display: inline-block}\n",
              ".dl-inline>dt::after {content: \":\\0020\"; padding-right: .5ex}\n",
              ".dl-inline>dt:not(:first-of-type) {padding-left: .5ex}\n",
              "</style><dl class=dl-inline><dt>function</dt><dd>34</dd><dt>gradient</dt><dd>&lt;NA&gt;</dd></dl>\n",
              "</dd>\n",
              "\t<dt>$convergence</dt>\n",
              "\t\t<dd>0</dd>\n",
              "\t<dt>$message</dt>\n",
              "\t\t<dd>NULL</dd>\n",
              "\t<dt>$hessian</dt>\n",
              "\t\t<dd><table class=\"dataframe\">\n",
              "<caption>A matrix: 1 × 1 of type dbl</caption>\n",
              "<tbody>\n",
              "\t<tr><td>-10.99307</td></tr>\n",
              "</tbody>\n",
              "</table>\n",
              "</dd>\n",
              "</dl>\n"
            ],
            "text/markdown": "$par\n:   10.9482421875\n$value\n:   -131.423730401298\n$counts\n:   function\n:   34gradient\n:   &lt;NA&gt;\n\n\n$convergence\n:   0\n$message\n:   NULL\n$hessian\n:   \nA matrix: 1 × 1 of type dbl\n\n| -10.99307 |\n\n\n\n\n",
            "text/latex": "\\begin{description}\n\\item[\\$par] 10.9482421875\n\\item[\\$value] -131.423730401298\n\\item[\\$counts] \\begin{description*}\n\\item[function] 34\n\\item[gradient] <NA>\n\\end{description*}\n\n\\item[\\$convergence] 0\n\\item[\\$message] NULL\n\\item[\\$hessian] A matrix: 1 × 1 of type dbl\n\\begin{tabular}{l}\n\t -10.99307\\\\\n\\end{tabular}\n\n\\end{description}\n",
            "text/plain": [
              "$par\n",
              "[1] 10.94824\n",
              "\n",
              "$value\n",
              "[1] -131.4237\n",
              "\n",
              "$counts\n",
              "function gradient \n",
              "      34       NA \n",
              "\n",
              "$convergence\n",
              "[1] 0\n",
              "\n",
              "$message\n",
              "NULL\n",
              "\n",
              "$hessian\n",
              "          [,1]\n",
              "[1,] -10.99307\n"
            ]
          },
          "metadata": {}
        }
      ]
    },
    {
      "cell_type": "code",
      "source": [
        "res <- optim(11, l, control = list(fnscale=-1), hessian = TRUE)\n",
        "res"
      ],
      "metadata": {
        "colab": {
          "base_uri": "https://localhost:8080/",
          "height": 365
        },
        "id": "c-E4eJKV1Kbu",
        "outputId": "2c4df54b-c8ba-49e8-de73-199fbe0982e9"
      },
      "execution_count": 72,
      "outputs": [
        {
          "output_type": "stream",
          "name": "stderr",
          "text": [
            "Warning message in optim(11, l, control = list(fnscale = -1), hessian = TRUE):\n",
            "“one-dimensional optimization by Nelder-Mead is unreliable:\n",
            "use \"Brent\" or optimize() directly”\n"
          ]
        },
        {
          "output_type": "display_data",
          "data": {
            "text/html": [
              "<dl>\n",
              "\t<dt>$par</dt>\n",
              "\t\t<dd>10.94736328125</dd>\n",
              "\t<dt>$value</dt>\n",
              "\t\t<dd>-131.423728554445</dd>\n",
              "\t<dt>$counts</dt>\n",
              "\t\t<dd><style>\n",
              ".dl-inline {width: auto; margin:0; padding: 0}\n",
              ".dl-inline>dt, .dl-inline>dd {float: none; width: auto; display: inline-block}\n",
              ".dl-inline>dt::after {content: \":\\0020\"; padding-right: .5ex}\n",
              ".dl-inline>dt:not(:first-of-type) {padding-left: .5ex}\n",
              "</style><dl class=dl-inline><dt>function</dt><dd>24</dd><dt>gradient</dt><dd>&lt;NA&gt;</dd></dl>\n",
              "</dd>\n",
              "\t<dt>$convergence</dt>\n",
              "\t\t<dd>0</dd>\n",
              "\t<dt>$message</dt>\n",
              "\t\t<dd>NULL</dd>\n",
              "\t<dt>$hessian</dt>\n",
              "\t\t<dd><table class=\"dataframe\">\n",
              "<caption>A matrix: 1 × 1 of type dbl</caption>\n",
              "<tbody>\n",
              "\t<tr><td>-11.00274</td></tr>\n",
              "</tbody>\n",
              "</table>\n",
              "</dd>\n",
              "</dl>\n"
            ],
            "text/markdown": "$par\n:   10.94736328125\n$value\n:   -131.423728554445\n$counts\n:   function\n:   24gradient\n:   &lt;NA&gt;\n\n\n$convergence\n:   0\n$message\n:   NULL\n$hessian\n:   \nA matrix: 1 × 1 of type dbl\n\n| -11.00274 |\n\n\n\n\n",
            "text/latex": "\\begin{description}\n\\item[\\$par] 10.94736328125\n\\item[\\$value] -131.423728554445\n\\item[\\$counts] \\begin{description*}\n\\item[function] 24\n\\item[gradient] <NA>\n\\end{description*}\n\n\\item[\\$convergence] 0\n\\item[\\$message] NULL\n\\item[\\$hessian] A matrix: 1 × 1 of type dbl\n\\begin{tabular}{l}\n\t -11.00274\\\\\n\\end{tabular}\n\n\\end{description}\n",
            "text/plain": [
              "$par\n",
              "[1] 10.94736\n",
              "\n",
              "$value\n",
              "[1] -131.4237\n",
              "\n",
              "$counts\n",
              "function gradient \n",
              "      24       NA \n",
              "\n",
              "$convergence\n",
              "[1] 0\n",
              "\n",
              "$message\n",
              "NULL\n",
              "\n",
              "$hessian\n",
              "          [,1]\n",
              "[1,] -11.00274\n"
            ]
          },
          "metadata": {}
        }
      ]
    },
    {
      "cell_type": "code",
      "source": [
        "res$par"
      ],
      "metadata": {
        "colab": {
          "base_uri": "https://localhost:8080/",
          "height": 34
        },
        "id": "xccNpj1_1j_Y",
        "outputId": "f5157e6a-975e-43cc-846a-54545a5768af"
      },
      "execution_count": 73,
      "outputs": [
        {
          "output_type": "display_data",
          "data": {
            "text/html": [
              "10.94736328125"
            ],
            "text/markdown": "10.94736328125",
            "text/latex": "10.94736328125",
            "text/plain": [
              "[1] 10.94736"
            ]
          },
          "metadata": {}
        }
      ]
    },
    {
      "cell_type": "code",
      "source": [
        "res$hessian"
      ],
      "metadata": {
        "colab": {
          "base_uri": "https://localhost:8080/",
          "height": 99
        },
        "id": "gPXKOR3q1rpg",
        "outputId": "377b3c21-b60a-48c9-d229-652dca9fbdc6"
      },
      "execution_count": 74,
      "outputs": [
        {
          "output_type": "display_data",
          "data": {
            "text/html": [
              "<table class=\"dataframe\">\n",
              "<caption>A matrix: 1 × 1 of type dbl</caption>\n",
              "<tbody>\n",
              "\t<tr><td>-11.00274</td></tr>\n",
              "</tbody>\n",
              "</table>\n"
            ],
            "text/markdown": "\nA matrix: 1 × 1 of type dbl\n\n| -11.00274 |\n\n",
            "text/latex": "A matrix: 1 × 1 of type dbl\n\\begin{tabular}{l}\n\t -11.00274\\\\\n\\end{tabular}\n",
            "text/plain": [
              "     [,1]     \n",
              "[1,] -11.00274"
            ]
          },
          "metadata": {}
        }
      ]
    },
    {
      "cell_type": "code",
      "source": [
        "hat.mu = res$par\n",
        "hat.mu"
      ],
      "metadata": {
        "colab": {
          "base_uri": "https://localhost:8080/",
          "height": 34
        },
        "id": "YEAYOVlV1u5c",
        "outputId": "cb7f677c-a30c-4354-9a0d-64681fdb4520"
      },
      "execution_count": 75,
      "outputs": [
        {
          "output_type": "display_data",
          "data": {
            "text/html": [
              "10.94736328125"
            ],
            "text/markdown": "10.94736328125",
            "text/latex": "10.94736328125",
            "text/plain": [
              "[1] 10.94736"
            ]
          },
          "metadata": {}
        }
      ]
    },
    {
      "cell_type": "code",
      "source": [
        "H_n = res$hessian\n",
        "oim <- -H_n\n",
        "hat.aVar <- solve(oim)\n",
        "hat.aVar"
      ],
      "metadata": {
        "colab": {
          "base_uri": "https://localhost:8080/",
          "height": 82
        },
        "id": "Wn6u_q7U11E9",
        "outputId": "96a7cdef-133e-4220-eea6-0fd1b1c3a72a"
      },
      "execution_count": 76,
      "outputs": [
        {
          "output_type": "display_data",
          "data": {
            "text/html": [
              "<table class=\"dataframe\">\n",
              "<caption>A matrix: 1 × 1 of type dbl</caption>\n",
              "<tbody>\n",
              "\t<tr><td>0.09088648</td></tr>\n",
              "</tbody>\n",
              "</table>\n"
            ],
            "text/markdown": "\nA matrix: 1 × 1 of type dbl\n\n| 0.09088648 |\n\n",
            "text/latex": "A matrix: 1 × 1 of type dbl\n\\begin{tabular}{l}\n\t 0.09088648\\\\\n\\end{tabular}\n",
            "text/plain": [
              "     [,1]      \n",
              "[1,] 0.09088648"
            ]
          },
          "metadata": {}
        }
      ]
    },
    {
      "cell_type": "markdown",
      "source": [
        "### 近似信頼区間"
      ],
      "metadata": {
        "id": "JuZoWXeUfj9o"
      }
    },
    {
      "cell_type": "code",
      "source": [
        "alpha = 0.05\n",
        "c(hat.mu - qnorm(1-alpha/2) * sqrt(hat.aVar), hat.mu + qnorm(1-alpha/2) * sqrt(hat.aVar) )"
      ],
      "metadata": {
        "colab": {
          "base_uri": "https://localhost:8080/",
          "height": 34
        },
        "id": "ZswzL39UedDT",
        "outputId": "82bbd74d-88b9-4f96-c940-30a37a43c7f2"
      },
      "execution_count": 77,
      "outputs": [
        {
          "output_type": "display_data",
          "data": {
            "text/html": [
              "<style>\n",
              ".list-inline {list-style: none; margin:0; padding: 0}\n",
              ".list-inline>li {display: inline-block}\n",
              ".list-inline>li:not(:last-child)::after {content: \"\\00b7\"; padding: 0 .5ex}\n",
              "</style>\n",
              "<ol class=list-inline><li>10.3564853875984</li><li>11.5382411749016</li></ol>\n"
            ],
            "text/markdown": "1. 10.3564853875984\n2. 11.5382411749016\n\n\n",
            "text/latex": "\\begin{enumerate*}\n\\item 10.3564853875984\n\\item 11.5382411749016\n\\end{enumerate*}\n",
            "text/plain": [
              "[1] 10.35649 11.53824"
            ]
          },
          "metadata": {}
        }
      ]
    },
    {
      "cell_type": "markdown",
      "source": [
        "## LFP"
      ],
      "metadata": {
        "id": "jqgxfMBr6uPn"
      }
    },
    {
      "cell_type": "code",
      "source": [
        "x = c(0.1, 0.1, 0.15, 0.6, 0.8, 0.8, 1.2, 2.5, 3, 4,\n",
        "4, 6, 10, 10, 12.5, 20, 20, 43, 43, 48,\n",
        "48, 54, 74, 84, 94, 168, 263, 593)\n",
        "d1 = data.frame(t = x, cens = rep(1, length(x)))\n",
        "d0 = data.frame(t = rep(1370, 4128), cens = rep(0, 4128))\n",
        "d = rbind(d1, d0)\n",
        "d"
      ],
      "metadata": {
        "colab": {
          "base_uri": "https://localhost:8080/",
          "height": 1000
        },
        "id": "WrJ0s1AF7ipT",
        "outputId": "e0838097-12f8-48a3-d9a2-9e9ffe902695"
      },
      "execution_count": 38,
      "outputs": [
        {
          "output_type": "display_data",
          "data": {
            "text/html": [
              "<table class=\"dataframe\">\n",
              "<caption>A data.frame: 4156 × 2</caption>\n",
              "<thead>\n",
              "\t<tr><th scope=col>t</th><th scope=col>cens</th></tr>\n",
              "\t<tr><th scope=col>&lt;dbl&gt;</th><th scope=col>&lt;dbl&gt;</th></tr>\n",
              "</thead>\n",
              "<tbody>\n",
              "\t<tr><td>   0.10</td><td>1</td></tr>\n",
              "\t<tr><td>   0.10</td><td>1</td></tr>\n",
              "\t<tr><td>   0.15</td><td>1</td></tr>\n",
              "\t<tr><td>   0.60</td><td>1</td></tr>\n",
              "\t<tr><td>   0.80</td><td>1</td></tr>\n",
              "\t<tr><td>   0.80</td><td>1</td></tr>\n",
              "\t<tr><td>   1.20</td><td>1</td></tr>\n",
              "\t<tr><td>   2.50</td><td>1</td></tr>\n",
              "\t<tr><td>   3.00</td><td>1</td></tr>\n",
              "\t<tr><td>   4.00</td><td>1</td></tr>\n",
              "\t<tr><td>   4.00</td><td>1</td></tr>\n",
              "\t<tr><td>   6.00</td><td>1</td></tr>\n",
              "\t<tr><td>  10.00</td><td>1</td></tr>\n",
              "\t<tr><td>  10.00</td><td>1</td></tr>\n",
              "\t<tr><td>  12.50</td><td>1</td></tr>\n",
              "\t<tr><td>  20.00</td><td>1</td></tr>\n",
              "\t<tr><td>  20.00</td><td>1</td></tr>\n",
              "\t<tr><td>  43.00</td><td>1</td></tr>\n",
              "\t<tr><td>  43.00</td><td>1</td></tr>\n",
              "\t<tr><td>  48.00</td><td>1</td></tr>\n",
              "\t<tr><td>  48.00</td><td>1</td></tr>\n",
              "\t<tr><td>  54.00</td><td>1</td></tr>\n",
              "\t<tr><td>  74.00</td><td>1</td></tr>\n",
              "\t<tr><td>  84.00</td><td>1</td></tr>\n",
              "\t<tr><td>  94.00</td><td>1</td></tr>\n",
              "\t<tr><td> 168.00</td><td>1</td></tr>\n",
              "\t<tr><td> 263.00</td><td>1</td></tr>\n",
              "\t<tr><td> 593.00</td><td>1</td></tr>\n",
              "\t<tr><td>1370.00</td><td>0</td></tr>\n",
              "\t<tr><td>1370.00</td><td>0</td></tr>\n",
              "\t<tr><td>⋮</td><td>⋮</td></tr>\n",
              "\t<tr><td>1370</td><td>0</td></tr>\n",
              "\t<tr><td>1370</td><td>0</td></tr>\n",
              "\t<tr><td>1370</td><td>0</td></tr>\n",
              "\t<tr><td>1370</td><td>0</td></tr>\n",
              "\t<tr><td>1370</td><td>0</td></tr>\n",
              "\t<tr><td>1370</td><td>0</td></tr>\n",
              "\t<tr><td>1370</td><td>0</td></tr>\n",
              "\t<tr><td>1370</td><td>0</td></tr>\n",
              "\t<tr><td>1370</td><td>0</td></tr>\n",
              "\t<tr><td>1370</td><td>0</td></tr>\n",
              "\t<tr><td>1370</td><td>0</td></tr>\n",
              "\t<tr><td>1370</td><td>0</td></tr>\n",
              "\t<tr><td>1370</td><td>0</td></tr>\n",
              "\t<tr><td>1370</td><td>0</td></tr>\n",
              "\t<tr><td>1370</td><td>0</td></tr>\n",
              "\t<tr><td>1370</td><td>0</td></tr>\n",
              "\t<tr><td>1370</td><td>0</td></tr>\n",
              "\t<tr><td>1370</td><td>0</td></tr>\n",
              "\t<tr><td>1370</td><td>0</td></tr>\n",
              "\t<tr><td>1370</td><td>0</td></tr>\n",
              "\t<tr><td>1370</td><td>0</td></tr>\n",
              "\t<tr><td>1370</td><td>0</td></tr>\n",
              "\t<tr><td>1370</td><td>0</td></tr>\n",
              "\t<tr><td>1370</td><td>0</td></tr>\n",
              "\t<tr><td>1370</td><td>0</td></tr>\n",
              "\t<tr><td>1370</td><td>0</td></tr>\n",
              "\t<tr><td>1370</td><td>0</td></tr>\n",
              "\t<tr><td>1370</td><td>0</td></tr>\n",
              "\t<tr><td>1370</td><td>0</td></tr>\n",
              "\t<tr><td>1370</td><td>0</td></tr>\n",
              "</tbody>\n",
              "</table>\n"
            ],
            "text/markdown": "\nA data.frame: 4156 × 2\n\n| t &lt;dbl&gt; | cens &lt;dbl&gt; |\n|---|---|\n|    0.10 | 1 |\n|    0.10 | 1 |\n|    0.15 | 1 |\n|    0.60 | 1 |\n|    0.80 | 1 |\n|    0.80 | 1 |\n|    1.20 | 1 |\n|    2.50 | 1 |\n|    3.00 | 1 |\n|    4.00 | 1 |\n|    4.00 | 1 |\n|    6.00 | 1 |\n|   10.00 | 1 |\n|   10.00 | 1 |\n|   12.50 | 1 |\n|   20.00 | 1 |\n|   20.00 | 1 |\n|   43.00 | 1 |\n|   43.00 | 1 |\n|   48.00 | 1 |\n|   48.00 | 1 |\n|   54.00 | 1 |\n|   74.00 | 1 |\n|   84.00 | 1 |\n|   94.00 | 1 |\n|  168.00 | 1 |\n|  263.00 | 1 |\n|  593.00 | 1 |\n| 1370.00 | 0 |\n| 1370.00 | 0 |\n| ⋮ | ⋮ |\n| 1370 | 0 |\n| 1370 | 0 |\n| 1370 | 0 |\n| 1370 | 0 |\n| 1370 | 0 |\n| 1370 | 0 |\n| 1370 | 0 |\n| 1370 | 0 |\n| 1370 | 0 |\n| 1370 | 0 |\n| 1370 | 0 |\n| 1370 | 0 |\n| 1370 | 0 |\n| 1370 | 0 |\n| 1370 | 0 |\n| 1370 | 0 |\n| 1370 | 0 |\n| 1370 | 0 |\n| 1370 | 0 |\n| 1370 | 0 |\n| 1370 | 0 |\n| 1370 | 0 |\n| 1370 | 0 |\n| 1370 | 0 |\n| 1370 | 0 |\n| 1370 | 0 |\n| 1370 | 0 |\n| 1370 | 0 |\n| 1370 | 0 |\n| 1370 | 0 |\n\n",
            "text/latex": "A data.frame: 4156 × 2\n\\begin{tabular}{ll}\n t & cens\\\\\n <dbl> & <dbl>\\\\\n\\hline\n\t    0.10 & 1\\\\\n\t    0.10 & 1\\\\\n\t    0.15 & 1\\\\\n\t    0.60 & 1\\\\\n\t    0.80 & 1\\\\\n\t    0.80 & 1\\\\\n\t    1.20 & 1\\\\\n\t    2.50 & 1\\\\\n\t    3.00 & 1\\\\\n\t    4.00 & 1\\\\\n\t    4.00 & 1\\\\\n\t    6.00 & 1\\\\\n\t   10.00 & 1\\\\\n\t   10.00 & 1\\\\\n\t   12.50 & 1\\\\\n\t   20.00 & 1\\\\\n\t   20.00 & 1\\\\\n\t   43.00 & 1\\\\\n\t   43.00 & 1\\\\\n\t   48.00 & 1\\\\\n\t   48.00 & 1\\\\\n\t   54.00 & 1\\\\\n\t   74.00 & 1\\\\\n\t   84.00 & 1\\\\\n\t   94.00 & 1\\\\\n\t  168.00 & 1\\\\\n\t  263.00 & 1\\\\\n\t  593.00 & 1\\\\\n\t 1370.00 & 0\\\\\n\t 1370.00 & 0\\\\\n\t ⋮ & ⋮\\\\\n\t 1370 & 0\\\\\n\t 1370 & 0\\\\\n\t 1370 & 0\\\\\n\t 1370 & 0\\\\\n\t 1370 & 0\\\\\n\t 1370 & 0\\\\\n\t 1370 & 0\\\\\n\t 1370 & 0\\\\\n\t 1370 & 0\\\\\n\t 1370 & 0\\\\\n\t 1370 & 0\\\\\n\t 1370 & 0\\\\\n\t 1370 & 0\\\\\n\t 1370 & 0\\\\\n\t 1370 & 0\\\\\n\t 1370 & 0\\\\\n\t 1370 & 0\\\\\n\t 1370 & 0\\\\\n\t 1370 & 0\\\\\n\t 1370 & 0\\\\\n\t 1370 & 0\\\\\n\t 1370 & 0\\\\\n\t 1370 & 0\\\\\n\t 1370 & 0\\\\\n\t 1370 & 0\\\\\n\t 1370 & 0\\\\\n\t 1370 & 0\\\\\n\t 1370 & 0\\\\\n\t 1370 & 0\\\\\n\t 1370 & 0\\\\\n\\end{tabular}\n",
            "text/plain": [
              "     t       cens\n",
              "1       0.10 1   \n",
              "2       0.10 1   \n",
              "3       0.15 1   \n",
              "4       0.60 1   \n",
              "5       0.80 1   \n",
              "6       0.80 1   \n",
              "7       1.20 1   \n",
              "8       2.50 1   \n",
              "9       3.00 1   \n",
              "10      4.00 1   \n",
              "11      4.00 1   \n",
              "12      6.00 1   \n",
              "13     10.00 1   \n",
              "14     10.00 1   \n",
              "15     12.50 1   \n",
              "16     20.00 1   \n",
              "17     20.00 1   \n",
              "18     43.00 1   \n",
              "19     43.00 1   \n",
              "20     48.00 1   \n",
              "21     48.00 1   \n",
              "22     54.00 1   \n",
              "23     74.00 1   \n",
              "24     84.00 1   \n",
              "25     94.00 1   \n",
              "26    168.00 1   \n",
              "27    263.00 1   \n",
              "28    593.00 1   \n",
              "29   1370.00 0   \n",
              "30   1370.00 0   \n",
              "⋮    ⋮       ⋮   \n",
              "4127 1370    0   \n",
              "4128 1370    0   \n",
              "4129 1370    0   \n",
              "4130 1370    0   \n",
              "4131 1370    0   \n",
              "4132 1370    0   \n",
              "4133 1370    0   \n",
              "4134 1370    0   \n",
              "4135 1370    0   \n",
              "4136 1370    0   \n",
              "4137 1370    0   \n",
              "4138 1370    0   \n",
              "4139 1370    0   \n",
              "4140 1370    0   \n",
              "4141 1370    0   \n",
              "4142 1370    0   \n",
              "4143 1370    0   \n",
              "4144 1370    0   \n",
              "4145 1370    0   \n",
              "4146 1370    0   \n",
              "4147 1370    0   \n",
              "4148 1370    0   \n",
              "4149 1370    0   \n",
              "4150 1370    0   \n",
              "4151 1370    0   \n",
              "4152 1370    0   \n",
              "4153 1370    0   \n",
              "4154 1370    0   \n",
              "4155 1370    0   \n",
              "4156 1370    0   "
            ]
          },
          "metadata": {}
        }
      ]
    },
    {
      "cell_type": "code",
      "source": [
        "dsev <- function(z){\n",
        "  exp(z-exp(z))\n",
        "}\n",
        "psev <- function(z){\n",
        "  1-exp(-exp(z))\n",
        "}\n",
        "Ft <- function(t, mu, sigma){\n",
        "  psev((log(t)-mu)/sigma)\n",
        "}\n",
        "ft <- function(t, mu, sigma){\n",
        "  1/t/sigma * dsev((log(t)-mu)/sigma)\n",
        "}\n",
        "l_i = function(x, par, delta){\n",
        "  mu = par[1]\n",
        "  sigma = par[2]\n",
        "  pu = par[3]\n",
        "  delta * log(pu * ft(x, mu, sigma)) + (1-delta) * log(1 - pu * Ft(x, mu, sigma))\n",
        "}\n",
        "loglikelihood = function(x, delta){\n",
        "  function(par){\n",
        "    sum(l_i(x, par, delta))\n",
        "  }\n",
        "}\n",
        "l = loglikelihood(d$t, d$cens)"
      ],
      "metadata": {
        "id": "a2jOAibp2KSX"
      },
      "execution_count": 41,
      "outputs": []
    },
    {
      "cell_type": "code",
      "source": [
        "l(c(3, 1, 0.5))"
      ],
      "metadata": {
        "colab": {
          "base_uri": "https://localhost:8080/",
          "height": 34
        },
        "id": "oIhmZ8bZ70RT",
        "outputId": "932b4857-e9e4-435e-d654-dca4de1ab22c"
      },
      "execution_count": 43,
      "outputs": [
        {
          "output_type": "display_data",
          "data": {
            "text/html": [
              "-3044.76484157557"
            ],
            "text/markdown": "-3044.76484157557",
            "text/latex": "-3044.76484157557",
            "text/plain": [
              "[1] -3044.765"
            ]
          },
          "metadata": {}
        }
      ]
    },
    {
      "cell_type": "code",
      "source": [
        "res <- optim(c(3, 1, 0.5), l, control = list(fnscale=-1), hessian = TRUE)\n",
        "res"
      ],
      "metadata": {
        "colab": {
          "base_uri": "https://localhost:8080/",
          "height": 920
        },
        "id": "4WRzCiU373EL",
        "outputId": "786a9cfb-9777-4042-ef02-beffddad3eea"
      },
      "execution_count": 44,
      "outputs": [
        {
          "output_type": "stream",
          "name": "stderr",
          "text": [
            "Warning message in log(pu * ft(x, mu, sigma)):\n",
            "“NaNs produced”\n",
            "Warning message in log(pu * ft(x, mu, sigma)):\n",
            "“NaNs produced”\n",
            "Warning message in log(pu * ft(x, mu, sigma)):\n",
            "“NaNs produced”\n",
            "Warning message in log(pu * ft(x, mu, sigma)):\n",
            "“NaNs produced”\n",
            "Warning message in log(pu * ft(x, mu, sigma)):\n",
            "“NaNs produced”\n",
            "Warning message in log(pu * ft(x, mu, sigma)):\n",
            "“NaNs produced”\n",
            "Warning message in log(pu * ft(x, mu, sigma)):\n",
            "“NaNs produced”\n",
            "Warning message in log(pu * ft(x, mu, sigma)):\n",
            "“NaNs produced”\n",
            "Warning message in log(pu * ft(x, mu, sigma)):\n",
            "“NaNs produced”\n",
            "Warning message in log(pu * ft(x, mu, sigma)):\n",
            "“NaNs produced”\n",
            "Warning message in log(pu * ft(x, mu, sigma)):\n",
            "“NaNs produced”\n",
            "Warning message in log(pu * ft(x, mu, sigma)):\n",
            "“NaNs produced”\n",
            "Warning message in log(pu * ft(x, mu, sigma)):\n",
            "“NaNs produced”\n",
            "Warning message in log(pu * ft(x, mu, sigma)):\n",
            "“NaNs produced”\n",
            "Warning message in log(pu * ft(x, mu, sigma)):\n",
            "“NaNs produced”\n",
            "Warning message in log(pu * ft(x, mu, sigma)):\n",
            "“NaNs produced”\n",
            "Warning message in log(pu * ft(x, mu, sigma)):\n",
            "“NaNs produced”\n"
          ]
        },
        {
          "output_type": "display_data",
          "data": {
            "text/html": [
              "<dl>\n",
              "\t<dt>$par</dt>\n",
              "\t\t<dd><style>\n",
              ".list-inline {list-style: none; margin:0; padding: 0}\n",
              ".list-inline>li {display: inline-block}\n",
              ".list-inline>li:not(:last-child)::after {content: \"\\00b7\"; padding: 0 .5ex}\n",
              "</style>\n",
              "<ol class=list-inline><li>3.34336121652725</li><li>2.01723644252954</li><li>0.00674854613856131</li></ol>\n",
              "</dd>\n",
              "\t<dt>$value</dt>\n",
              "\t\t<dd>-293.032906089193</dd>\n",
              "\t<dt>$counts</dt>\n",
              "\t\t<dd><style>\n",
              ".dl-inline {width: auto; margin:0; padding: 0}\n",
              ".dl-inline>dt, .dl-inline>dd {float: none; width: auto; display: inline-block}\n",
              ".dl-inline>dt::after {content: \":\\0020\"; padding-right: .5ex}\n",
              ".dl-inline>dt:not(:first-of-type) {padding-left: .5ex}\n",
              "</style><dl class=dl-inline><dt>function</dt><dd>216</dd><dt>gradient</dt><dd>&lt;NA&gt;</dd></dl>\n",
              "</dd>\n",
              "\t<dt>$convergence</dt>\n",
              "\t\t<dd>0</dd>\n",
              "\t<dt>$message</dt>\n",
              "\t\t<dd>NULL</dd>\n",
              "\t<dt>$hessian</dt>\n",
              "\t\t<dd><table class=\"dataframe\">\n",
              "<caption>A matrix: 3 × 3 of type dbl</caption>\n",
              "<tbody>\n",
              "\t<tr><td>-6.541135</td><td> -2.372721</td><td>     15.16101</td></tr>\n",
              "\t<tr><td>-2.372721</td><td>-11.597908</td><td>     29.15508</td></tr>\n",
              "\t<tr><td>15.161010</td><td> 29.155081</td><td>-647672.44203</td></tr>\n",
              "</tbody>\n",
              "</table>\n",
              "</dd>\n",
              "</dl>\n"
            ],
            "text/markdown": "$par\n:   1. 3.34336121652725\n2. 2.01723644252954\n3. 0.00674854613856131\n\n\n\n$value\n:   -293.032906089193\n$counts\n:   function\n:   216gradient\n:   &lt;NA&gt;\n\n\n$convergence\n:   0\n$message\n:   NULL\n$hessian\n:   \nA matrix: 3 × 3 of type dbl\n\n| -6.541135 |  -2.372721 |      15.16101 |\n| -2.372721 | -11.597908 |      29.15508 |\n| 15.161010 |  29.155081 | -647672.44203 |\n\n\n\n\n",
            "text/latex": "\\begin{description}\n\\item[\\$par] \\begin{enumerate*}\n\\item 3.34336121652725\n\\item 2.01723644252954\n\\item 0.00674854613856131\n\\end{enumerate*}\n\n\\item[\\$value] -293.032906089193\n\\item[\\$counts] \\begin{description*}\n\\item[function] 216\n\\item[gradient] <NA>\n\\end{description*}\n\n\\item[\\$convergence] 0\n\\item[\\$message] NULL\n\\item[\\$hessian] A matrix: 3 × 3 of type dbl\n\\begin{tabular}{lll}\n\t -6.541135 &  -2.372721 &      15.16101\\\\\n\t -2.372721 & -11.597908 &      29.15508\\\\\n\t 15.161010 &  29.155081 & -647672.44203\\\\\n\\end{tabular}\n\n\\end{description}\n",
            "text/plain": [
              "$par\n",
              "[1] 3.343361217 2.017236443 0.006748546\n",
              "\n",
              "$value\n",
              "[1] -293.0329\n",
              "\n",
              "$counts\n",
              "function gradient \n",
              "     216       NA \n",
              "\n",
              "$convergence\n",
              "[1] 0\n",
              "\n",
              "$message\n",
              "NULL\n",
              "\n",
              "$hessian\n",
              "          [,1]       [,2]          [,3]\n",
              "[1,] -6.541135  -2.372721      15.16101\n",
              "[2,] -2.372721 -11.597908      29.15508\n",
              "[3,] 15.161010  29.155081 -647672.44203\n"
            ]
          },
          "metadata": {}
        }
      ]
    },
    {
      "cell_type": "code",
      "source": [
        "res <- optim(c(3, 2, 0.01), l, control = list(fnscale=-1), hessian = TRUE)\n",
        "res"
      ],
      "metadata": {
        "colab": {
          "base_uri": "https://localhost:8080/",
          "height": 512
        },
        "id": "yK7KpKXN8T6L",
        "outputId": "4e9cbc3f-8115-48d9-dda2-0e276ca872ce"
      },
      "execution_count": 45,
      "outputs": [
        {
          "output_type": "stream",
          "name": "stderr",
          "text": [
            "Warning message in log(pu * ft(x, mu, sigma)):\n",
            "“NaNs produced”\n",
            "Warning message in log(pu * ft(x, mu, sigma)):\n",
            "“NaNs produced”\n",
            "Warning message in log(pu * ft(x, mu, sigma)):\n",
            "“NaNs produced”\n",
            "Warning message in log(pu * ft(x, mu, sigma)):\n",
            "“NaNs produced”\n",
            "Warning message in log(pu * ft(x, mu, sigma)):\n",
            "“NaNs produced”\n"
          ]
        },
        {
          "output_type": "display_data",
          "data": {
            "text/html": [
              "<dl>\n",
              "\t<dt>$par</dt>\n",
              "\t\t<dd><style>\n",
              ".list-inline {list-style: none; margin:0; padding: 0}\n",
              ".list-inline>li {display: inline-block}\n",
              ".list-inline>li:not(:last-child)::after {content: \"\\00b7\"; padding: 0 .5ex}\n",
              "</style>\n",
              "<ol class=list-inline><li>3.34507580725928</li><li>2.01646409210003</li><li>0.00674388445029006</li></ol>\n",
              "</dd>\n",
              "\t<dt>$value</dt>\n",
              "\t\t<dd>-293.032888408575</dd>\n",
              "\t<dt>$counts</dt>\n",
              "\t\t<dd><style>\n",
              ".dl-inline {width: auto; margin:0; padding: 0}\n",
              ".dl-inline>dt, .dl-inline>dd {float: none; width: auto; display: inline-block}\n",
              ".dl-inline>dt::after {content: \":\\0020\"; padding-right: .5ex}\n",
              ".dl-inline>dt:not(:first-of-type) {padding-left: .5ex}\n",
              "</style><dl class=dl-inline><dt>function</dt><dd>94</dd><dt>gradient</dt><dd>&lt;NA&gt;</dd></dl>\n",
              "</dd>\n",
              "\t<dt>$convergence</dt>\n",
              "\t\t<dd>0</dd>\n",
              "\t<dt>$message</dt>\n",
              "\t\t<dd>NULL</dd>\n",
              "\t<dt>$hessian</dt>\n",
              "\t\t<dd><table class=\"dataframe\">\n",
              "<caption>A matrix: 3 × 3 of type dbl</caption>\n",
              "<tbody>\n",
              "\t<tr><td>-6.541505</td><td> -2.365017</td><td>     15.17675</td></tr>\n",
              "\t<tr><td>-2.365017</td><td>-11.607516</td><td>     29.18363</td></tr>\n",
              "\t<tr><td>15.176754</td><td> 29.183631</td><td>-648604.58404</td></tr>\n",
              "</tbody>\n",
              "</table>\n",
              "</dd>\n",
              "</dl>\n"
            ],
            "text/markdown": "$par\n:   1. 3.34507580725928\n2. 2.01646409210003\n3. 0.00674388445029006\n\n\n\n$value\n:   -293.032888408575\n$counts\n:   function\n:   94gradient\n:   &lt;NA&gt;\n\n\n$convergence\n:   0\n$message\n:   NULL\n$hessian\n:   \nA matrix: 3 × 3 of type dbl\n\n| -6.541505 |  -2.365017 |      15.17675 |\n| -2.365017 | -11.607516 |      29.18363 |\n| 15.176754 |  29.183631 | -648604.58404 |\n\n\n\n\n",
            "text/latex": "\\begin{description}\n\\item[\\$par] \\begin{enumerate*}\n\\item 3.34507580725928\n\\item 2.01646409210003\n\\item 0.00674388445029006\n\\end{enumerate*}\n\n\\item[\\$value] -293.032888408575\n\\item[\\$counts] \\begin{description*}\n\\item[function] 94\n\\item[gradient] <NA>\n\\end{description*}\n\n\\item[\\$convergence] 0\n\\item[\\$message] NULL\n\\item[\\$hessian] A matrix: 3 × 3 of type dbl\n\\begin{tabular}{lll}\n\t -6.541505 &  -2.365017 &      15.17675\\\\\n\t -2.365017 & -11.607516 &      29.18363\\\\\n\t 15.176754 &  29.183631 & -648604.58404\\\\\n\\end{tabular}\n\n\\end{description}\n",
            "text/plain": [
              "$par\n",
              "[1] 3.345075807 2.016464092 0.006743884\n",
              "\n",
              "$value\n",
              "[1] -293.0329\n",
              "\n",
              "$counts\n",
              "function gradient \n",
              "      94       NA \n",
              "\n",
              "$convergence\n",
              "[1] 0\n",
              "\n",
              "$message\n",
              "NULL\n",
              "\n",
              "$hessian\n",
              "          [,1]       [,2]          [,3]\n",
              "[1,] -6.541505  -2.365017      15.17675\n",
              "[2,] -2.365017 -11.607516      29.18363\n",
              "[3,] 15.176754  29.183631 -648604.58404\n"
            ]
          },
          "metadata": {}
        }
      ]
    },
    {
      "cell_type": "code",
      "source": [
        "H_n = res$hessian\n",
        "oim <- -H_n\n",
        "hat.aVar <- solve(oim)\n",
        "hat.aVar"
      ],
      "metadata": {
        "colab": {
          "base_uri": "https://localhost:8080/",
          "height": 127
        },
        "id": "ohyPG5kw8i_M",
        "outputId": "1ea8e0ec-a84d-4848-c69d-fb852a87d2ff"
      },
      "execution_count": 46,
      "outputs": [
        {
          "output_type": "display_data",
          "data": {
            "text/html": [
              "<table class=\"dataframe\">\n",
              "<caption>A matrix: 3 × 3 of type dbl</caption>\n",
              "<tbody>\n",
              "\t<tr><td> 1.650300e-01</td><td>-3.361876e-02</td><td>2.348892e-06</td></tr>\n",
              "\t<tr><td>-3.361876e-02</td><td> 9.300941e-02</td><td>3.398262e-06</td></tr>\n",
              "\t<tr><td> 2.348892e-06</td><td> 3.398262e-06</td><td>1.541979e-06</td></tr>\n",
              "</tbody>\n",
              "</table>\n"
            ],
            "text/markdown": "\nA matrix: 3 × 3 of type dbl\n\n|  1.650300e-01 | -3.361876e-02 | 2.348892e-06 |\n| -3.361876e-02 |  9.300941e-02 | 3.398262e-06 |\n|  2.348892e-06 |  3.398262e-06 | 1.541979e-06 |\n\n",
            "text/latex": "A matrix: 3 × 3 of type dbl\n\\begin{tabular}{lll}\n\t  1.650300e-01 & -3.361876e-02 & 2.348892e-06\\\\\n\t -3.361876e-02 &  9.300941e-02 & 3.398262e-06\\\\\n\t  2.348892e-06 &  3.398262e-06 & 1.541979e-06\\\\\n\\end{tabular}\n",
            "text/plain": [
              "     [,1]          [,2]          [,3]        \n",
              "[1,]  1.650300e-01 -3.361876e-02 2.348892e-06\n",
              "[2,] -3.361876e-02  9.300941e-02 3.398262e-06\n",
              "[3,]  2.348892e-06  3.398262e-06 1.541979e-06"
            ]
          },
          "metadata": {}
        }
      ]
    },
    {
      "cell_type": "code",
      "source": [
        "res$par"
      ],
      "metadata": {
        "colab": {
          "base_uri": "https://localhost:8080/",
          "height": 34
        },
        "id": "ESNV_dHi8yLD",
        "outputId": "22a4312a-5031-4e29-f273-014fc44eb131"
      },
      "execution_count": 47,
      "outputs": [
        {
          "output_type": "display_data",
          "data": {
            "text/html": [
              "<style>\n",
              ".list-inline {list-style: none; margin:0; padding: 0}\n",
              ".list-inline>li {display: inline-block}\n",
              ".list-inline>li:not(:last-child)::after {content: \"\\00b7\"; padding: 0 .5ex}\n",
              "</style>\n",
              "<ol class=list-inline><li>3.34507580725928</li><li>2.01646409210003</li><li>0.00674388445029006</li></ol>\n"
            ],
            "text/markdown": "1. 3.34507580725928\n2. 2.01646409210003\n3. 0.00674388445029006\n\n\n",
            "text/latex": "\\begin{enumerate*}\n\\item 3.34507580725928\n\\item 2.01646409210003\n\\item 0.00674388445029006\n\\end{enumerate*}\n",
            "text/plain": [
              "[1] 3.345075807 2.016464092 0.006743884"
            ]
          },
          "metadata": {}
        }
      ]
    },
    {
      "cell_type": "code",
      "source": [
        "hat.theta = res$par\n",
        "hat.var.theta = diag(hat.aVar)"
      ],
      "metadata": {
        "id": "Cbud_SQv875G"
      },
      "execution_count": 48,
      "outputs": []
    },
    {
      "cell_type": "code",
      "source": [
        "alpha = 0.05\n",
        "c(hat.theta[1] - qnorm(1-alpha/2) * sqrt(hat.var.theta[1]),\n",
        "hat.theta[1] + qnorm(1-alpha/2) * sqrt(hat.var.theta[1]) )"
      ],
      "metadata": {
        "colab": {
          "base_uri": "https://localhost:8080/",
          "height": 34
        },
        "id": "9NcMQXmW-I6x",
        "outputId": "d7a46da4-8b2c-49ed-f79b-e56813e538fc"
      },
      "execution_count": 50,
      "outputs": [
        {
          "output_type": "display_data",
          "data": {
            "text/html": [
              "<style>\n",
              ".list-inline {list-style: none; margin:0; padding: 0}\n",
              ".list-inline>li {display: inline-block}\n",
              ".list-inline>li:not(:last-child)::after {content: \"\\00b7\"; padding: 0 .5ex}\n",
              "</style>\n",
              "<ol class=list-inline><li>2.54886227233813</li><li>4.14128934218043</li></ol>\n"
            ],
            "text/markdown": "1. 2.54886227233813\n2. 4.14128934218043\n\n\n",
            "text/latex": "\\begin{enumerate*}\n\\item 2.54886227233813\n\\item 4.14128934218043\n\\end{enumerate*}\n",
            "text/plain": [
              "[1] 2.548862 4.141289"
            ]
          },
          "metadata": {}
        }
      ]
    },
    {
      "cell_type": "code",
      "source": [
        "c(hat.theta[2] - qnorm(1-alpha/2) * sqrt(hat.var.theta[2]),\n",
        "hat.theta[2] + qnorm(1-alpha/2) * sqrt(hat.var.theta[2]) )\n",
        "\n",
        "c(hat.theta[3] - qnorm(1-alpha/2) * sqrt(hat.var.theta[3]),\n",
        "hat.theta[3] + qnorm(1-alpha/2) * sqrt(hat.var.theta[3]) )"
      ],
      "metadata": {
        "colab": {
          "base_uri": "https://localhost:8080/",
          "height": 51
        },
        "id": "0sOt5Qgf-ltM",
        "outputId": "d7e9aba9-a6e3-40ba-e250-947583cdf5e0"
      },
      "execution_count": 51,
      "outputs": [
        {
          "output_type": "display_data",
          "data": {
            "text/html": [
              "<style>\n",
              ".list-inline {list-style: none; margin:0; padding: 0}\n",
              ".list-inline>li {display: inline-block}\n",
              ".list-inline>li:not(:last-child)::after {content: \"\\00b7\"; padding: 0 .5ex}\n",
              "</style>\n",
              "<ol class=list-inline><li>1.4187251833578</li><li>2.61420300084227</li></ol>\n"
            ],
            "text/markdown": "1. 1.4187251833578\n2. 2.61420300084227\n\n\n",
            "text/latex": "\\begin{enumerate*}\n\\item 1.4187251833578\n\\item 2.61420300084227\n\\end{enumerate*}\n",
            "text/plain": [
              "[1] 1.418725 2.614203"
            ]
          },
          "metadata": {}
        },
        {
          "output_type": "display_data",
          "data": {
            "text/html": [
              "<style>\n",
              ".list-inline {list-style: none; margin:0; padding: 0}\n",
              ".list-inline>li {display: inline-block}\n",
              ".list-inline>li:not(:last-child)::after {content: \"\\00b7\"; padding: 0 .5ex}\n",
              "</style>\n",
              "<ol class=list-inline><li>0.0043100705989019</li><li>0.00917769830167822</li></ol>\n"
            ],
            "text/markdown": "1. 0.0043100705989019\n2. 0.00917769830167822\n\n\n",
            "text/latex": "\\begin{enumerate*}\n\\item 0.0043100705989019\n\\item 0.00917769830167822\n\\end{enumerate*}\n",
            "text/plain": [
              "[1] 0.004310071 0.009177698"
            ]
          },
          "metadata": {}
        }
      ]
    },
    {
      "cell_type": "code",
      "source": [],
      "metadata": {
        "id": "Wkey8YuZ-zsK"
      },
      "execution_count": null,
      "outputs": []
    }
  ]
}