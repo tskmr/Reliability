{
  "nbformat": 4,
  "nbformat_minor": 0,
  "metadata": {
    "colab": {
      "provenance": [],
      "authorship_tag": "ABX9TyPgOJWL352wQ8vrOtpQ8p5F",
      "include_colab_link": true
    },
    "kernelspec": {
      "name": "ir",
      "display_name": "R"
    },
    "language_info": {
      "name": "R"
    }
  },
  "cells": [
    {
      "cell_type": "markdown",
      "metadata": {
        "id": "view-in-github",
        "colab_type": "text"
      },
      "source": [
        "<a href=\"https://colab.research.google.com/github/tskmr/Reliability/blob/main/Lecture8.ipynb\" target=\"_parent\"><img src=\"https://colab.research.google.com/assets/colab-badge.svg\" alt=\"Open In Colab\"/></a>"
      ]
    },
    {
      "cell_type": "code",
      "execution_count": 1,
      "metadata": {
        "colab": {
          "base_uri": "https://localhost:8080/"
        },
        "id": "jN0WdLBViqCW",
        "outputId": "cb8916dd-3638-4b86-93e7-0d5624ce1f64"
      },
      "outputs": [
        {
          "output_type": "stream",
          "name": "stderr",
          "text": [
            "── \u001b[1mAttaching packages\u001b[22m ─────────────────────────────────────── tidyverse 1.3.1 ──\n",
            "\n",
            "\u001b[32m✔\u001b[39m \u001b[34mggplot2\u001b[39m 3.4.2     \u001b[32m✔\u001b[39m \u001b[34mpurrr  \u001b[39m 1.0.1\n",
            "\u001b[32m✔\u001b[39m \u001b[34mtibble \u001b[39m 3.2.1     \u001b[32m✔\u001b[39m \u001b[34mdplyr  \u001b[39m 1.1.2\n",
            "\u001b[32m✔\u001b[39m \u001b[34mtidyr  \u001b[39m 1.3.0     \u001b[32m✔\u001b[39m \u001b[34mstringr\u001b[39m 1.5.0\n",
            "\u001b[32m✔\u001b[39m \u001b[34mreadr  \u001b[39m 2.1.4     \u001b[32m✔\u001b[39m \u001b[34mforcats\u001b[39m 1.0.0\n",
            "\n",
            "── \u001b[1mConflicts\u001b[22m ────────────────────────────────────────── tidyverse_conflicts() ──\n",
            "\u001b[31m✖\u001b[39m \u001b[34mdplyr\u001b[39m::\u001b[32mfilter()\u001b[39m masks \u001b[34mstats\u001b[39m::filter()\n",
            "\u001b[31m✖\u001b[39m \u001b[34mdplyr\u001b[39m::\u001b[32mlag()\u001b[39m    masks \u001b[34mstats\u001b[39m::lag()\n",
            "\n"
          ]
        }
      ],
      "source": [
        "library(tidyverse)"
      ]
    },
    {
      "cell_type": "code",
      "source": [
        "?rexp"
      ],
      "metadata": {
        "id": "ANdIeIF50kHK"
      },
      "execution_count": 2,
      "outputs": []
    },
    {
      "cell_type": "code",
      "source": [
        "n <- 30\n",
        "lambda <- 0.5\n",
        "x <- rexp(n, rate=lambda)\n",
        "x"
      ],
      "metadata": {
        "colab": {
          "base_uri": "https://localhost:8080/",
          "height": 85
        },
        "id": "Kntj1z4S0feS",
        "outputId": "b448d5ba-8cef-4986-fbcf-4e8ab3f64cbf"
      },
      "execution_count": 28,
      "outputs": [
        {
          "output_type": "display_data",
          "data": {
            "text/html": [
              "<style>\n",
              ".list-inline {list-style: none; margin:0; padding: 0}\n",
              ".list-inline>li {display: inline-block}\n",
              ".list-inline>li:not(:last-child)::after {content: \"\\00b7\"; padding: 0 .5ex}\n",
              "</style>\n",
              "<ol class=list-inline><li>4.09781184403186</li><li>0.0957983825355768</li><li>3.77127311361914</li><li>2.53557372829857</li><li>0.341591352104922</li><li>1.73864394604209</li><li>0.265024153515697</li><li>8.04361293795419</li><li>0.421486799605191</li><li>8.64925762162532</li><li>1.93266193717014</li><li>3.59303748963361</li><li>0.0159262279048562</li><li>0.304416374714425</li><li>1.82374148993733</li><li>4.73163919234524</li><li>1.96082040845397</li><li>1.44622690781</li><li>0.0076620746765778</li><li>3.18132157979493</li><li>2.11253211452606</li><li>0.652188052423298</li><li>1.79064994049378</li><li>0.706116762012243</li><li>0.0494790263473988</li><li>0.193303371348557</li><li>1.72794242194834</li><li>1.11953402776271</li><li>2.65179038039389</li><li>1.24097684305161</li></ol>\n"
            ],
            "text/markdown": "1. 4.09781184403186\n2. 0.0957983825355768\n3. 3.77127311361914\n4. 2.53557372829857\n5. 0.341591352104922\n6. 1.73864394604209\n7. 0.265024153515697\n8. 8.04361293795419\n9. 0.421486799605191\n10. 8.64925762162532\n11. 1.93266193717014\n12. 3.59303748963361\n13. 0.0159262279048562\n14. 0.304416374714425\n15. 1.82374148993733\n16. 4.73163919234524\n17. 1.96082040845397\n18. 1.44622690781\n19. 0.0076620746765778\n20. 3.18132157979493\n21. 2.11253211452606\n22. 0.652188052423298\n23. 1.79064994049378\n24. 0.706116762012243\n25. 0.0494790263473988\n26. 0.193303371348557\n27. 1.72794242194834\n28. 1.11953402776271\n29. 2.65179038039389\n30. 1.24097684305161\n\n\n",
            "text/latex": "\\begin{enumerate*}\n\\item 4.09781184403186\n\\item 0.0957983825355768\n\\item 3.77127311361914\n\\item 2.53557372829857\n\\item 0.341591352104922\n\\item 1.73864394604209\n\\item 0.265024153515697\n\\item 8.04361293795419\n\\item 0.421486799605191\n\\item 8.64925762162532\n\\item 1.93266193717014\n\\item 3.59303748963361\n\\item 0.0159262279048562\n\\item 0.304416374714425\n\\item 1.82374148993733\n\\item 4.73163919234524\n\\item 1.96082040845397\n\\item 1.44622690781\n\\item 0.0076620746765778\n\\item 3.18132157979493\n\\item 2.11253211452606\n\\item 0.652188052423298\n\\item 1.79064994049378\n\\item 0.706116762012243\n\\item 0.0494790263473988\n\\item 0.193303371348557\n\\item 1.72794242194834\n\\item 1.11953402776271\n\\item 2.65179038039389\n\\item 1.24097684305161\n\\end{enumerate*}\n",
            "text/plain": [
              " [1] 4.097811844 0.095798383 3.771273114 2.535573728 0.341591352 1.738643946\n",
              " [7] 0.265024154 8.043612938 0.421486800 8.649257622 1.932661937 3.593037490\n",
              "[13] 0.015926228 0.304416375 1.823741490 4.731639192 1.960820408 1.446226908\n",
              "[19] 0.007662075 3.181321580 2.112532115 0.652188052 1.790649940 0.706116762\n",
              "[25] 0.049479026 0.193303371 1.727942422 1.119534028 2.651790380 1.240976843"
            ]
          },
          "metadata": {}
        }
      ]
    },
    {
      "cell_type": "code",
      "source": [
        "data.frame(x) %>% ggplot(aes(x))+ geom_histogram(bins=30, col=\"white\")"
      ],
      "metadata": {
        "colab": {
          "base_uri": "https://localhost:8080/",
          "height": 437
        },
        "id": "KR114aa00_IM",
        "outputId": "6429cadb-cf8c-4171-da19-b1c7e8a2cc00"
      },
      "execution_count": 24,
      "outputs": [
        {
          "output_type": "display_data",
          "data": {
            "text/plain": [
              "plot without title"
            ],
            "image/png": "[encoded data removed]"
          },
          "metadata": {
            "image/png": {
              "width": 420,
              "height": 420
            }
          }
        }
      ]
    },
    {
      "cell_type": "code",
      "source": [
        "hat.lambda <- 1/mean(x)\n",
        "hat.lambda"
      ],
      "metadata": {
        "colab": {
          "base_uri": "https://localhost:8080/",
          "height": 34
        },
        "id": "hvGjjufB1TZU",
        "outputId": "9c3c87d6-e34c-4fcd-c086-10102f21c821"
      },
      "execution_count": 29,
      "outputs": [
        {
          "output_type": "display_data",
          "data": {
            "text/html": [
              "0.490179735085462"
            ],
            "text/markdown": "0.490179735085462",
            "text/latex": "0.490179735085462",
            "text/plain": [
              "[1] 0.4901797"
            ]
          },
          "metadata": {}
        }
      ]
    },
    {
      "cell_type": "code",
      "source": [
        "alpha <- 0.05\n",
        "qnorm(alpha/2)\n",
        "qnorm(1-alpha/2)\n",
        "z <- qnorm(1-alpha/2)"
      ],
      "metadata": {
        "colab": {
          "base_uri": "https://localhost:8080/",
          "height": 51
        },
        "id": "TtYV5_KL1b1R",
        "outputId": "414650db-8f77-4b03-8c4d-33e110fd1814"
      },
      "execution_count": 30,
      "outputs": [
        {
          "output_type": "display_data",
          "data": {
            "text/html": [
              "-1.95996398454005"
            ],
            "text/markdown": "-1.95996398454005",
            "text/latex": "-1.95996398454005",
            "text/plain": [
              "[1] -1.959964"
            ]
          },
          "metadata": {}
        },
        {
          "output_type": "display_data",
          "data": {
            "text/html": [
              "1.95996398454005"
            ],
            "text/markdown": "1.95996398454005",
            "text/latex": "1.95996398454005",
            "text/plain": [
              "[1] 1.959964"
            ]
          },
          "metadata": {}
        }
      ]
    },
    {
      "cell_type": "code",
      "source": [
        "c(hat.lambda - z * hat.lambda/sqrt(n),  hat.lambda + z * hat.lambda/sqrt(n))"
      ],
      "metadata": {
        "colab": {
          "base_uri": "https://localhost:8080/",
          "height": 34
        },
        "id": "R-cq8PuC1snn",
        "outputId": "2695d2a3-a995-40ba-863c-4cde9588d6c0"
      },
      "execution_count": 31,
      "outputs": [
        {
          "output_type": "display_data",
          "data": {
            "text/html": [
              "<style>\n",
              ".list-inline {list-style: none; margin:0; padding: 0}\n",
              ".list-inline>li {display: inline-block}\n",
              ".list-inline>li:not(:last-child)::after {content: \"\\00b7\"; padding: 0 .5ex}\n",
              "</style>\n",
              "<ol class=list-inline><li>0.314774392808715</li><li>0.665585077362209</li></ol>\n"
            ],
            "text/markdown": "1. 0.314774392808715\n2. 0.665585077362209\n\n\n",
            "text/latex": "\\begin{enumerate*}\n\\item 0.314774392808715\n\\item 0.665585077362209\n\\end{enumerate*}\n",
            "text/plain": [
              "[1] 0.3147744 0.6655851"
            ]
          },
          "metadata": {}
        }
      ]
    }
  ]
}