{
  "nbformat": 4,
  "nbformat_minor": 0,
  "metadata": {
    "colab": {
      "provenance": [],
      "authorship_tag": "ABX9TyNpAtza9v/nI4wLMsWhZR+d",
      "include_colab_link": true
    },
    "kernelspec": {
      "name": "ir",
      "display_name": "R"
    },
    "language_info": {
      "name": "R"
    }
  },
  "cells": [
    {
      "cell_type": "markdown",
      "metadata": {
        "id": "view-in-github",
        "colab_type": "text"
      },
      "source": [
        "<a href=\"https://colab.research.google.com/github/tskmr/Reliability/blob/main/lecture13a.ipynb\" target=\"_parent\"><img src=\"https://colab.research.google.com/assets/colab-badge.svg\" alt=\"Open In Colab\"/></a>"
      ]
    },
    {
      "cell_type": "code",
      "execution_count": 1,
      "metadata": {
        "colab": {
          "base_uri": "https://localhost:8080/"
        },
        "id": "h_g0sid7BFPQ",
        "outputId": "1b831619-9b6b-4f0e-e11d-b42d591ce9ec"
      },
      "outputs": [
        {
          "output_type": "stream",
          "name": "stderr",
          "text": [
            "── \u001b[1mAttaching packages\u001b[22m ─────────────────────────────────────── tidyverse 1.3.1 ──\n",
            "\n",
            "\u001b[32m✔\u001b[39m \u001b[34mggplot2\u001b[39m 3.4.2     \u001b[32m✔\u001b[39m \u001b[34mpurrr  \u001b[39m 1.0.1\n",
            "\u001b[32m✔\u001b[39m \u001b[34mtibble \u001b[39m 3.2.1     \u001b[32m✔\u001b[39m \u001b[34mdplyr  \u001b[39m 1.1.2\n",
            "\u001b[32m✔\u001b[39m \u001b[34mtidyr  \u001b[39m 1.3.0     \u001b[32m✔\u001b[39m \u001b[34mstringr\u001b[39m 1.5.0\n",
            "\u001b[32m✔\u001b[39m \u001b[34mreadr  \u001b[39m 2.1.4     \u001b[32m✔\u001b[39m \u001b[34mforcats\u001b[39m 1.0.0\n",
            "\n",
            "── \u001b[1mConflicts\u001b[22m ────────────────────────────────────────── tidyverse_conflicts() ──\n",
            "\u001b[31m✖\u001b[39m \u001b[34mdplyr\u001b[39m::\u001b[32mfilter()\u001b[39m masks \u001b[34mstats\u001b[39m::filter()\n",
            "\u001b[31m✖\u001b[39m \u001b[34mdplyr\u001b[39m::\u001b[32mlag()\u001b[39m    masks \u001b[34mstats\u001b[39m::lag()\n",
            "\n"
          ]
        }
      ],
      "source": [
        "library(tidyverse); theme_set(theme_bw(18))\n",
        "### log location scale family (llsf) の尤度\n",
        "li_for_llsf = function(t, par, delta_i){\n",
        "mu = par[1]\n",
        "sigma = par[2]\n",
        "pdf = 1/(sigma*t) * phi((log(t)-mu)/sigma);\n",
        "cdf = Phi((log(t)-mu)/sigma)\n",
        "delta_i * log(pdf) + (1-delta_i) * log(1-cdf)\n",
        "}\n",
        "loglikelihood = function(t, delta){# 対数尤度\n",
        "  function(par){\n",
        "    sum(li_for_llsf(t, par, delta))\n",
        "  }\n",
        "}"
      ]
    },
    {
      "cell_type": "code",
      "source": [
        "### データ\n",
        "d = read.csv(\"ShockAbsorber.csv\")\n",
        "d = d %>% mutate(delta = if_else(Censoring.Indicator==\"Failed\", 1, 0))\n",
        "\n",
        "### Rにデフォルトで用意されていない分布を定義\n",
        "psev = function(z){ 1-exp(-exp(z)) }\n",
        "dsev = function(z){ exp(z-exp(z)) }\n",
        "qsev = function(p){ log(-log(1-p)) }\n",
        "plev = function(z){ exp(-exp(-z)) }\n",
        "dlev = function(z){ exp(-z-exp(-z)) }\n",
        "qlev = function(p){ -log(-log(1-p)) }\n",
        "### 分布を指定\n",
        "Phi = pnorm # ワイブル分布\n",
        "phi = dnorm\n",
        "l = loglikelihood(d$Kilometers, d$delta)\n",
        "l\n",
        "l(c(10, 1))"
      ],
      "metadata": {
        "colab": {
          "base_uri": "https://localhost:8080/",
          "height": 102
        },
        "id": "-sX2IsnqBZwy",
        "outputId": "c14ad4fd-e570-4db3-8ea6-49536bf8fe8c"
      },
      "execution_count": 28,
      "outputs": [
        {
          "output_type": "display_data",
          "data": {
            "text/html": [
              "<pre class=language-r><code>function (par) \n",
              "{\n",
              "<span style=white-space:pre-wrap>    sum(li_for_llsf(t, par, delta))</span>\n",
              "}</code></pre>"
            ],
            "text/markdown": "```r\nfunction (par) \n{\n    sum(li_for_llsf(t, par, delta))\n}\n```",
            "text/latex": "\\begin{minted}{r}\nfunction (par) \n\\{\n    sum(li\\_for\\_llsf(t, par, delta))\n\\}\n\\end{minted}",
            "text/plain": [
              "function(par){\n",
              "    sum(li_for_llsf(t, par, delta))\n",
              "  }\n",
              "<bytecode: 0x55b321a37850>\n",
              "<environment: 0x55b32438fa30>"
            ]
          },
          "metadata": {}
        },
        {
          "output_type": "display_data",
          "data": {
            "text/html": [
              "-130.822892815472"
            ],
            "text/markdown": "-130.822892815472",
            "text/latex": "-130.822892815472",
            "text/plain": [
              "[1] -130.8229"
            ]
          },
          "metadata": {}
        }
      ]
    },
    {
      "cell_type": "code",
      "source": [
        "### 最尤推定\n",
        "initial_par = c(10, 1)\n",
        "res = optim(initial_par, l, control = list(fnscale=-1), hessian = TRUE)\n",
        "res\n",
        "### 最尤推定値\n",
        "hat.mu = res$par[1]; hat.mu\n",
        "hat.sigma = res$par[2]; hat.sigma ### プラグイン漸近分散\n",
        "H_n = res$hessian\n",
        "fisher.information = -H_n\n",
        "aVar = solve(fisher.information); sqrt(aVar) ### 95%近似信頼区間\n",
        "c(hat.mu-qnorm(0.975) * sqrt(aVar[1,1]),\n",
        "  hat.mu+qnorm(0.975) * sqrt(aVar[1,1]))\n",
        "c(hat.sigma-qnorm(0.975) * sqrt(aVar[2,2]),\n",
        "hat.sigma+qnorm(0.975) * sqrt(aVar[2,2]))"
      ],
      "metadata": {
        "colab": {
          "base_uri": "https://localhost:8080/",
          "height": 458
        },
        "id": "Hd2KP047Bjbf",
        "outputId": "a1d9d353-2045-424f-ee08-c2e8f3884b37"
      },
      "execution_count": 29,
      "outputs": [
        {
          "output_type": "display_data",
          "data": {
            "text/html": [
              "<dl>\n",
              "\t<dt>$par</dt>\n",
              "\t\t<dd><style>\n",
              ".list-inline {list-style: none; margin:0; padding: 0}\n",
              ".list-inline>li {display: inline-block}\n",
              ".list-inline>li:not(:last-child)::after {content: \"\\00b7\"; padding: 0 .5ex}\n",
              "</style>\n",
              "<ol class=list-inline><li>10.1449912420773</li><li>0.530135030597876</li></ol>\n",
              "</dd>\n",
              "\t<dt>$value</dt>\n",
              "\t\t<dd>-124.608551240844</dd>\n",
              "\t<dt>$counts</dt>\n",
              "\t\t<dd><style>\n",
              ".dl-inline {width: auto; margin:0; padding: 0}\n",
              ".dl-inline>dt, .dl-inline>dd {float: none; width: auto; display: inline-block}\n",
              ".dl-inline>dt::after {content: \":\\0020\"; padding-right: .5ex}\n",
              ".dl-inline>dt:not(:first-of-type) {padding-left: .5ex}\n",
              "</style><dl class=dl-inline><dt>function</dt><dd>63</dd><dt>gradient</dt><dd>&lt;NA&gt;</dd></dl>\n",
              "</dd>\n",
              "\t<dt>$convergence</dt>\n",
              "\t\t<dd>0</dd>\n",
              "\t<dt>$message</dt>\n",
              "\t\t<dd>NULL</dd>\n",
              "\t<dt>$hessian</dt>\n",
              "\t\t<dd><table class=\"dataframe\">\n",
              "<caption>A matrix: 2 × 2 of type dbl</caption>\n",
              "<tbody>\n",
              "\t<tr><td>-75.07527</td><td>  57.63628</td></tr>\n",
              "\t<tr><td> 57.63628</td><td>-122.95504</td></tr>\n",
              "</tbody>\n",
              "</table>\n",
              "</dd>\n",
              "</dl>\n"
            ],
            "text/markdown": "$par\n:   1. 10.1449912420773\n2. 0.530135030597876\n\n\n\n$value\n:   -124.608551240844\n$counts\n:   function\n:   63gradient\n:   &lt;NA&gt;\n\n\n$convergence\n:   0\n$message\n:   NULL\n$hessian\n:   \nA matrix: 2 × 2 of type dbl\n\n| -75.07527 |   57.63628 |\n|  57.63628 | -122.95504 |\n\n\n\n\n",
            "text/latex": "\\begin{description}\n\\item[\\$par] \\begin{enumerate*}\n\\item 10.1449912420773\n\\item 0.530135030597876\n\\end{enumerate*}\n\n\\item[\\$value] -124.608551240844\n\\item[\\$counts] \\begin{description*}\n\\item[function] 63\n\\item[gradient] <NA>\n\\end{description*}\n\n\\item[\\$convergence] 0\n\\item[\\$message] NULL\n\\item[\\$hessian] A matrix: 2 × 2 of type dbl\n\\begin{tabular}{ll}\n\t -75.07527 &   57.63628\\\\\n\t  57.63628 & -122.95504\\\\\n\\end{tabular}\n\n\\end{description}\n",
            "text/plain": [
              "$par\n",
              "[1] 10.144991  0.530135\n",
              "\n",
              "$value\n",
              "[1] -124.6086\n",
              "\n",
              "$counts\n",
              "function gradient \n",
              "      63       NA \n",
              "\n",
              "$convergence\n",
              "[1] 0\n",
              "\n",
              "$message\n",
              "NULL\n",
              "\n",
              "$hessian\n",
              "          [,1]       [,2]\n",
              "[1,] -75.07527   57.63628\n",
              "[2,]  57.63628 -122.95504\n"
            ]
          },
          "metadata": {}
        },
        {
          "output_type": "display_data",
          "data": {
            "text/html": [
              "10.1449912420773"
            ],
            "text/markdown": "10.1449912420773",
            "text/latex": "10.1449912420773",
            "text/plain": [
              "[1] 10.14499"
            ]
          },
          "metadata": {}
        },
        {
          "output_type": "display_data",
          "data": {
            "text/html": [
              "0.530135030597876"
            ],
            "text/markdown": "0.530135030597876",
            "text/latex": "0.530135030597876",
            "text/plain": [
              "[1] 0.530135"
            ]
          },
          "metadata": {}
        },
        {
          "output_type": "display_data",
          "data": {
            "text/html": [
              "<table class=\"dataframe\">\n",
              "<caption>A matrix: 2 × 2 of type dbl</caption>\n",
              "<tbody>\n",
              "\t<tr><td>0.14425082</td><td>0.09876273</td></tr>\n",
              "\t<tr><td>0.09876273</td><td>0.11271808</td></tr>\n",
              "</tbody>\n",
              "</table>\n"
            ],
            "text/markdown": "\nA matrix: 2 × 2 of type dbl\n\n| 0.14425082 | 0.09876273 |\n| 0.09876273 | 0.11271808 |\n\n",
            "text/latex": "A matrix: 2 × 2 of type dbl\n\\begin{tabular}{ll}\n\t 0.14425082 & 0.09876273\\\\\n\t 0.09876273 & 0.11271808\\\\\n\\end{tabular}\n",
            "text/plain": [
              "     [,1]       [,2]      \n",
              "[1,] 0.14425082 0.09876273\n",
              "[2,] 0.09876273 0.11271808"
            ]
          },
          "metadata": {}
        },
        {
          "output_type": "display_data",
          "data": {
            "text/html": [
              "<style>\n",
              ".list-inline {list-style: none; margin:0; padding: 0}\n",
              ".list-inline>li {display: inline-block}\n",
              ".list-inline>li:not(:last-child)::after {content: \"\\00b7\"; padding: 0 .5ex}\n",
              "</style>\n",
              "<ol class=list-inline><li>9.86226482893094</li><li>10.4277176552236</li></ol>\n"
            ],
            "text/markdown": "1. 9.86226482893094\n2. 10.4277176552236\n\n\n",
            "text/latex": "\\begin{enumerate*}\n\\item 9.86226482893094\n\\item 10.4277176552236\n\\end{enumerate*}\n",
            "text/plain": [
              "[1]  9.862265 10.427718"
            ]
          },
          "metadata": {}
        },
        {
          "output_type": "display_data",
          "data": {
            "text/html": [
              "<style>\n",
              ".list-inline {list-style: none; margin:0; padding: 0}\n",
              ".list-inline>li {display: inline-block}\n",
              ".list-inline>li:not(:last-child)::after {content: \"\\00b7\"; padding: 0 .5ex}\n",
              "</style>\n",
              "<ol class=list-inline><li>0.309211654896733</li><li>0.751058406299019</li></ol>\n"
            ],
            "text/markdown": "1. 0.309211654896733\n2. 0.751058406299019\n\n\n",
            "text/latex": "\\begin{enumerate*}\n\\item 0.309211654896733\n\\item 0.751058406299019\n\\end{enumerate*}\n",
            "text/plain": [
              "[1] 0.3092117 0.7510584"
            ]
          },
          "metadata": {}
        }
      ]
    },
    {
      "cell_type": "code",
      "source": [
        "hat.F = function(t) { Phi((log(t)-hat.mu)/hat.sigma) }\n",
        "var.F = function(t){\n",
        "  jF_mu = -1/(hat.sigma) * phi((log(t)-hat.mu)/hat.sigma)\n",
        "jF_sigma = -(log(t)-hat.mu)/hat.sigma^2 * phi((log(t)-hat.mu)/hat.sigma)\n",
        "jF = matrix(c(jF_mu, jF_sigma), ncol=2)\n",
        "jF%*%aVar%*%t(jF)\n",
        "}"
      ],
      "metadata": {
        "id": "sNUpTaGSCCkR"
      },
      "execution_count": 30,
      "outputs": []
    },
    {
      "cell_type": "code",
      "source": [
        "t = seq(1, 100000, len=100)\n",
        "dFT =\n",
        "  data.frame(t,\n",
        "mean=hat.F(t),\n",
        "se = sapply(t, function(t) sqrt(var.F(t))),\n",
        "upper=sapply(t, function(t) hat.F(t)+qnorm(0.975)*sqrt(var.F(t))),\n",
        "lower=sapply(t, function(t) hat.F(t)-qnorm(0.975)*sqrt(var.F(t))))\n",
        "p1 = dFT %>%\n",
        "  ggplot()+geom_line(aes(t, mean))+\n",
        "geom_line(aes(t, upper), linetype=2)+\n",
        "geom_line(aes(t, lower), linetype=2)+\n",
        "xlab(bquote(italic(t)))+ylab(\"Cumulative␣Distribution␣Function\")\n",
        "p1"
      ],
      "metadata": {
        "colab": {
          "base_uri": "https://localhost:8080/",
          "height": 437
        },
        "id": "PKRgNQmtDjOh",
        "outputId": "ea16b8bf-6b02-4652-fbde-8fb4d734cbe6"
      },
      "execution_count": 32,
      "outputs": [
        {
          "output_type": "display_data",
          "data": {
            "text/plain": [
              "plot without title"
            ],
            "image/png": "[encoded data removed]"
          },
          "metadata": {
            "image/png": {
              "width": 420,
              "height": 420
            }
          }
        }
      ]
    },
    {
      "cell_type": "code",
      "source": [],
      "metadata": {
        "id": "0gjKu6GoDlIC"
      },
      "execution_count": null,
      "outputs": []
    }
  ]
}